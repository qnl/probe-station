{
 "cells": [
  {
   "cell_type": "code",
   "execution_count": 10,
   "metadata": {},
   "outputs": [],
   "source": [
    "import numpy as np\n",
    "from probe_station.Probe_Measurement import Probe_Measurement\n",
    "\n",
    "probe_m = Probe_Measurement()"
   ]
  },
  {
   "cell_type": "code",
   "execution_count": 12,
   "metadata": {},
   "outputs": [
    {
     "name": "stdout",
     "output_type": "stream",
     "text": [
      "Starting die. x:0, y:0\n",
      "Die time 0.39 minutes\n",
      "Starting die. x:1, y:0\n",
      "Die time 0.39 minutes\n",
      "Starting die. x:2, y:0\n",
      "Die time 0.38 minutes\n",
      "Starting die. x:3, y:0\n",
      "Die time 0.38 minutes\n",
      "Starting die. x:3, y:1\n",
      "Die time 0.4 minutes\n",
      "Starting die. x:2, y:1\n",
      "Die time 0.39 minutes\n",
      "Starting die. x:1, y:1\n",
      "Die time 0.39 minutes\n",
      "Starting die. x:0, y:1\n",
      "Die time 0.38 minutes\n",
      "Starting die. x:0, y:2\n",
      "Die time 0.39 minutes\n",
      "Starting die. x:1, y:2\n",
      "Die time 0.4 minutes\n",
      "Starting die. x:2, y:2\n",
      "Die time 0.39 minutes\n",
      "Starting die. x:3, y:2\n",
      "Die time 0.38 minutes\n",
      "Starting die. x:3, y:3\n",
      "Die time 0.4 minutes\n",
      "Starting die. x:2, y:3\n",
      "Die time 0.39 minutes\n",
      "Starting die. x:1, y:3\n",
      "Die time 0.39 minutes\n",
      "Starting die. x:0, y:3\n",
      "Die time 0.39 minutes\n",
      "1546727106.372615\n",
      "1546726421.6262145\n",
      "Wafer Done. Total time: 11.41 minutes\n"
     ]
    }
   ],
   "source": [
    "probe_m.probe_wafer()"
   ]
  },
  {
   "cell_type": "code",
   "execution_count": 13,
   "metadata": {},
   "outputs": [],
   "source": [
    "np.savez('C:/Users/QNL Probe Station/Documents/sample',\n",
    "         probe_values=np.array(probe_m.data))"
   ]
  },
  {
   "cell_type": "code",
   "execution_count": null,
   "metadata": {},
   "outputs": [],
   "source": []
  }
 ],
 "metadata": {
  "kernelspec": {
   "display_name": "Python 3",
   "language": "python",
   "name": "python3"
  },
  "language_info": {
   "codemirror_mode": {
    "name": "ipython",
    "version": 3
   },
   "file_extension": ".py",
   "mimetype": "text/x-python",
   "name": "python",
   "nbconvert_exporter": "python",
   "pygments_lexer": "ipython3",
   "version": "3.6.7"
  }
 },
 "nbformat": 4,
 "nbformat_minor": 2
}
